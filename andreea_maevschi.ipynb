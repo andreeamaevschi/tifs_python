{
 "cells": [
  {
   "cell_type": "code",
   "execution_count": 75,
   "metadata": {},
   "outputs": [
    {
     "name": "stdout",
     "output_type": "stream",
     "text": [
      "Maevschi Andreea\n"
     ]
    }
   ],
   "source": [
    "#2, 3\n",
    "#2 \n",
    "nume = 'Maevschi'\n",
    "prenume = 'Andreea'\n",
    "\n",
    "#3\n",
    "print(nume, prenume)"
   ]
  },
  {
   "cell_type": "code",
   "execution_count": 100,
   "metadata": {},
   "outputs": [
    {
     "name": "stdout",
     "output_type": "stream",
     "text": [
      "2021\n",
      "-2017\n",
      "4038\n",
      "MaevschiMaevschiMaevschiMaevschiMaevschiMaevschiMaevschiMaevschiMaevschiMaevschiMaevschiMaevschiMaevschiMaevschiMaevschiMaevschiMaevschiMaevschiMaevschiMaevschiMaevschiMaevschiMaevschiMaevschiMaevschiMaevschiMaevschiMaevschiMaevschiMaevschiMaevschiMaevschiMaevschiMaevschiMaevschiMaevschiMaevschiMaevschiMaevschiMaevschiMaevschiMaevschiMaevschiMaevschiMaevschiMaevschiMaevschiMaevschiMaevschiMaevschiMaevschiMaevschiMaevschiMaevschiMaevschiMaevschiMaevschiMaevschiMaevschiMaevschiMaevschiMaevschiMaevschiMaevschiMaevschiMaevschiMaevschiMaevschiMaevschiMaevschiMaevschiMaevschiMaevschiMaevschiMaevschiMaevschiMaevschiMaevschiMaevschiMaevschiMaevschiMaevschiMaevschiMaevschiMaevschiMaevschiMaevschiMaevschiMaevschiMaevschiMaevschiMaevschiMaevschiMaevschiMaevschiMaevschiMaevschiMaevschiMaevschiMaevschiMaevschiMaevschiMaevschiMaevschiMaevschiMaevschiMaevschiMaevschiMaevschiMaevschiMaevschiMaevschiMaevschiMaevschiMaevschiMaevschiMaevschiMaevschiMaevschiMaevschiMaevschiMaevschiMaevschiMaevschiMaevschiMaevschiMaevschiMaevschiMaevschiMaevschiMaevschiMaevschiMaevschiMaevschiMaevschiMaevschiMaevschiMaevschiMaevschiMaevschiMaevschiMaevschiMaevschiMaevschiMaevschiMaevschiMaevschiMaevschiMaevschiMaevschiMaevschiMaevschiMaevschiMaevschiMaevschiMaevschiMaevschiMaevschiMaevschiMaevschiMaevschiMaevschiMaevschiMaevschiMaevschiMaevschiMaevschiMaevschiMaevschiMaevschiMaevschiMaevschiMaevschiMaevschiMaevschiMaevschiMaevschiMaevschiMaevschiMaevschiMaevschiMaevschiMaevschiMaevschiMaevschiMaevschiMaevschiMaevschiMaevschiMaevschiMaevschiMaevschiMaevschiMaevschiMaevschiMaevschiMaevschiMaevschiMaevschiMaevschiMaevschiMaevschiMaevschiMaevschiMaevschiMaevschiMaevschiMaevschiMaevschiMaevschiMaevschiMaevschiMaevschiMaevschiMaevschiMaevschiMaevschiMaevschiMaevschiMaevschiMaevschiMaevschiMaevschiMaevschiMaevschiMaevschiMaevschiMaevschiMaevschiMaevschiMaevschiMaevschiMaevschiMaevschiMaevschiMaevschiMaevschiMaevschiMaevschiMaevschiMaevschiMaevschiMaevschiMaevschiMaevschiMaevschiMaevschiMaevschiMaevschiMaevschiMaevschiMaevschiMaevschiMaevschiMaevschiMaevschiMaevschiMaevschiMaevschiMaevschiMaevschiMaevschiMaevschiMaevschiMaevschiMaevschiMaevschiMaevschiMaevschiMaevschiMaevschiMaevschiMaevschiMaevschiMaevschiMaevschiMaevschiMaevschiMaevschiMaevschiMaevschiMaevschiMaevschiMaevschiMaevschiMaevschiMaevschiMaevschiMaevschiMaevschiMaevschiMaevschiMaevschiMaevschiMaevschiMaevschiMaevschiMaevschiMaevschiMaevschiMaevschiMaevschiMaevschiMaevschiMaevschiMaevschiMaevschiMaevschiMaevschiMaevschiMaevschiMaevschiMaevschiMaevschiMaevschiMaevschiMaevschiMaevschiMaevschiMaevschiMaevschiMaevschiMaevschiMaevschiMaevschiMaevschiMaevschiMaevschiMaevschiMaevschiMaevschiMaevschiMaevschiMaevschiMaevschiMaevschiMaevschiMaevschiMaevschiMaevschiMaevschiMaevschiMaevschiMaevschiMaevschiMaevschiMaevschiMaevschiMaevschiMaevschiMaevschiMaevschiMaevschiMaevschiMaevschiMaevschiMaevschiMaevschiMaevschiMaevschiMaevschiMaevschiMaevschiMaevschiMaevschiMaevschiMaevschiMaevschiMaevschiMaevschiMaevschiMaevschiMaevschiMaevschiMaevschiMaevschiMaevschiMaevschiMaevschiMaevschiMaevschiMaevschiMaevschiMaevschiMaevschiMaevschiMaevschiMaevschiMaevschiMaevschiMaevschiMaevschiMaevschiMaevschiMaevschiMaevschiMaevschiMaevschiMaevschiMaevschiMaevschiMaevschiMaevschiMaevschiMaevschiMaevschiMaevschiMaevschiMaevschiMaevschiMaevschiMaevschiMaevschiMaevschiMaevschiMaevschiMaevschiMaevschiMaevschiMaevschiMaevschiMaevschiMaevschiMaevschiMaevschiMaevschiMaevschiMaevschiMaevschiMaevschiMaevschiMaevschiMaevschiMaevschiMaevschiMaevschiMaevschiMaevschiMaevschiMaevschiMaevschiMaevschiMaevschiMaevschiMaevschiMaevschiMaevschiMaevschiMaevschiMaevschiMaevschiMaevschiMaevschiMaevschiMaevschiMaevschiMaevschiMaevschiMaevschiMaevschiMaevschiMaevschiMaevschiMaevschiMaevschiMaevschiMaevschiMaevschiMaevschiMaevschiMaevschiMaevschiMaevschiMaevschiMaevschiMaevschiMaevschiMaevschiMaevschiMaevschiMaevschiMaevschiMaevschiMaevschiMaevschiMaevschiMaevschiMaevschiMaevschiMaevschiMaevschiMaevschiMaevschiMaevschiMaevschiMaevschiMaevschiMaevschiMaevschiMaevschiMaevschiMaevschiMaevschiMaevschiMaevschiMaevschiMaevschiMaevschiMaevschiMaevschiMaevschiMaevschiMaevschiMaevschiMaevschiMaevschiMaevschiMaevschiMaevschiMaevschiMaevschiMaevschiMaevschiMaevschiMaevschiMaevschiMaevschiMaevschiMaevschiMaevschiMaevschiMaevschiMaevschiMaevschiMaevschiMaevschiMaevschiMaevschiMaevschiMaevschiMaevschiMaevschiMaevschiMaevschiMaevschiMaevschiMaevschiMaevschiMaevschiMaevschiMaevschiMaevschiMaevschiMaevschiMaevschiMaevschiMaevschiMaevschiMaevschiMaevschiMaevschiMaevschiMaevschiMaevschiMaevschiMaevschiMaevschiMaevschiMaevschiMaevschiMaevschiMaevschiMaevschiMaevschiMaevschiMaevschiMaevschiMaevschiMaevschiMaevschiMaevschiMaevschiMaevschiMaevschiMaevschiMaevschiMaevschiMaevschiMaevschiMaevschiMaevschiMaevschiMaevschiMaevschiMaevschiMaevschiMaevschiMaevschiMaevschiMaevschiMaevschiMaevschiMaevschiMaevschiMaevschiMaevschiMaevschiMaevschiMaevschiMaevschiMaevschiMaevschiMaevschiMaevschiMaevschiMaevschiMaevschiMaevschiMaevschiMaevschiMaevschiMaevschiMaevschiMaevschiMaevschiMaevschiMaevschiMaevschiMaevschiMaevschiMaevschiMaevschiMaevschiMaevschiMaevschiMaevschiMaevschiMaevschiMaevschiMaevschiMaevschiMaevschiMaevschiMaevschiMaevschiMaevschiMaevschiMaevschiMaevschiMaevschiMaevschiMaevschiMaevschiMaevschiMaevschiMaevschiMaevschiMaevschiMaevschiMaevschiMaevschiMaevschiMaevschiMaevschiMaevschiMaevschiMaevschiMaevschiMaevschiMaevschiMaevschiMaevschiMaevschiMaevschiMaevschiMaevschiMaevschiMaevschiMaevschiMaevschiMaevschiMaevschiMaevschiMaevschiMaevschiMaevschiMaevschiMaevschiMaevschiMaevschiMaevschiMaevschiMaevschiMaevschiMaevschiMaevschiMaevschiMaevschiMaevschiMaevschiMaevschiMaevschiMaevschiMaevschiMaevschiMaevschiMaevschiMaevschiMaevschiMaevschiMaevschiMaevschiMaevschiMaevschiMaevschiMaevschiMaevschiMaevschiMaevschiMaevschiMaevschiMaevschiMaevschiMaevschiMaevschiMaevschiMaevschiMaevschiMaevschiMaevschiMaevschiMaevschiMaevschiMaevschiMaevschiMaevschiMaevschiMaevschiMaevschiMaevschiMaevschiMaevschiMaevschiMaevschiMaevschiMaevschiMaevschiMaevschiMaevschiMaevschiMaevschiMaevschiMaevschiMaevschiMaevschiMaevschiMaevschiMaevschiMaevschiMaevschiMaevschiMaevschiMaevschiMaevschiMaevschiMaevschiMaevschiMaevschiMaevschiMaevschiMaevschiMaevschiMaevschiMaevschiMaevschiMaevschiMaevschiMaevschiMaevschiMaevschiMaevschiMaevschiMaevschiMaevschiMaevschiMaevschiMaevschiMaevschiMaevschiMaevschiMaevschiMaevschiMaevschiMaevschiMaevschiMaevschiMaevschiMaevschiMaevschiMaevschiMaevschiMaevschiMaevschiMaevschiMaevschiMaevschiMaevschiMaevschiMaevschiMaevschiMaevschiMaevschiMaevschiMaevschiMaevschiMaevschiMaevschiMaevschiMaevschiMaevschiMaevschiMaevschiMaevschiMaevschiMaevschiMaevschiMaevschiMaevschiMaevschiMaevschiMaevschiMaevschiMaevschiMaevschiMaevschiMaevschiMaevschiMaevschiMaevschiMaevschiMaevschiMaevschiMaevschiMaevschiMaevschiMaevschiMaevschiMaevschiMaevschiMaevschiMaevschiMaevschiMaevschiMaevschiMaevschiMaevschiMaevschiMaevschiMaevschiMaevschiMaevschiMaevschiMaevschiMaevschiMaevschiMaevschiMaevschiMaevschiMaevschiMaevschiMaevschiMaevschiMaevschiMaevschiMaevschiMaevschiMaevschiMaevschiMaevschiMaevschiMaevschiMaevschiMaevschiMaevschiMaevschiMaevschiMaevschiMaevschiMaevschiMaevschiMaevschiMaevschiMaevschiMaevschiMaevschiMaevschiMaevschiMaevschiMaevschiMaevschiMaevschiMaevschiMaevschiMaevschiMaevschiMaevschiMaevschiMaevschiMaevschiMaevschiMaevschiMaevschiMaevschiMaevschiMaevschiMaevschiMaevschiMaevschiMaevschiMaevschiMaevschiMaevschiMaevschiMaevschiMaevschiMaevschiMaevschiMaevschiMaevschiMaevschiMaevschiMaevschiMaevschiMaevschiMaevschiMaevschiMaevschiMaevschiMaevschiMaevschiMaevschiMaevschiMaevschiMaevschiMaevschiMaevschiMaevschiMaevschiMaevschiMaevschiMaevschiMaevschiMaevschiMaevschiMaevschiMaevschiMaevschiMaevschiMaevschiMaevschiMaevschiMaevschiMaevschiMaevschiMaevschiMaevschiMaevschiMaevschiMaevschiMaevschiMaevschiMaevschiMaevschiMaevschiMaevschiMaevschiMaevschiMaevschiMaevschiMaevschiMaevschiMaevschiMaevschiMaevschiMaevschiMaevschiMaevschiMaevschiMaevschiMaevschiMaevschiMaevschiMaevschiMaevschiMaevschiMaevschiMaevschiMaevschiMaevschiMaevschiMaevschiMaevschiMaevschiMaevschiMaevschiMaevschiMaevschiMaevschiMaevschiMaevschiMaevschiMaevschiMaevschiMaevschiMaevschiMaevschiMaevschiMaevschiMaevschiMaevschiMaevschiMaevschiMaevschiMaevschiMaevschiMaevschiMaevschiMaevschiMaevschiMaevschiMaevschiMaevschiMaevschiMaevschiMaevschiMaevschiMaevschiMaevschiMaevschiMaevschiMaevschiMaevschiMaevschiMaevschiMaevschiMaevschiMaevschiMaevschiMaevschiMaevschiMaevschiMaevschiMaevschiMaevschiMaevschiMaevschiMaevschiMaevschiMaevschiMaevschiMaevschiMaevschiMaevschiMaevschiMaevschiMaevschiMaevschiMaevschiMaevschiMaevschiMaevschiMaevschiMaevschiMaevschiMaevschiMaevschiMaevschiMaevschiMaevschiMaevschiMaevschiMaevschiMaevschiMaevschiMaevschiMaevschiMaevschiMaevschiMaevschiMaevschiMaevschiMaevschiMaevschiMaevschiMaevschiMaevschiMaevschiMaevschiMaevschiMaevschiMaevschiMaevschiMaevschiMaevschiMaevschiMaevschiMaevschiMaevschiMaevschiMaevschiMaevschiMaevschiMaevschiMaevschiMaevschiMaevschiMaevschiMaevschiMaevschiMaevschiMaevschiMaevschiMaevschiMaevschiMaevschiMaevschiMaevschiMaevschiMaevschiMaevschiMaevschiMaevschiMaevschiMaevschiMaevschiMaevschiMaevschiMaevschiMaevschiMaevschiMaevschiMaevschiMaevschiMaevschiMaevschiMaevschiMaevschiMaevschiMaevschiMaevschiMaevschiMaevschiMaevschiMaevschiMaevschiMaevschiMaevschiMaevschiMaevschiMaevschiMaevschiMaevschiMaevschiMaevschiMaevschiMaevschiMaevschiMaevschiMaevschiMaevschiMaevschiMaevschiMaevschiMaevschiMaevschiMaevschiMaevschiMaevschiMaevschiMaevschiMaevschiMaevschiMaevschiMaevschiMaevschiMaevschiMaevschiMaevschiMaevschiMaevschiMaevschiMaevschiMaevschiMaevschiMaevschiMaevschiMaevschiMaevschiMaevschiMaevschiMaevschiMaevschiMaevschiMaevschiMaevschiMaevschiMaevschiMaevschiMaevschiMaevschiMaevschiMaevschiMaevschiMaevschiMaevschiMaevschiMaevschiMaevschiMaevschiMaevschiMaevschiMaevschiMaevschiMaevschiMaevschiMaevschiMaevschiMaevschiMaevschiMaevschiMaevschiMaevschiMaevschiMaevschiMaevschiMaevschiMaevschiMaevschiMaevschiMaevschiMaevschiMaevschiMaevschiMaevschiMaevschiMaevschiMaevschiMaevschiMaevschiMaevschiMaevschiMaevschiMaevschiMaevschiMaevschiMaevschiMaevschiMaevschiMaevschiMaevschiMaevschiMaevschiMaevschiMaevschiMaevschiMaevschiMaevschiMaevschiMaevschiMaevschiMaevschiMaevschiMaevschiMaevschiMaevschiMaevschiMaevschiMaevschiMaevschiMaevschiMaevschiMaevschiMaevschiMaevschiMaevschiMaevschiMaevschiMaevschiMaevschiMaevschiMaevschiMaevschiMaevschiMaevschiMaevschiMaevschiMaevschiMaevschiMaevschiMaevschiMaevschiMaevschiMaevschiMaevschiMaevschiMaevschiMaevschiMaevschiMaevschiMaevschiMaevschiMaevschiMaevschiMaevschiMaevschiMaevschiMaevschiMaevschiMaevschiMaevschiMaevschiMaevschiMaevschiMaevschiMaevschiMaevschiMaevschiMaevschiMaevschiMaevschiMaevschiMaevschiMaevschiMaevschiMaevschiMaevschiMaevschiMaevschiMaevschiMaevschiMaevschiMaevschiMaevschiMaevschiMaevschiMaevschiMaevschiMaevschiMaevschiMaevschiMaevschiMaevschiMaevschiMaevschiMaevschiMaevschiMaevschiMaevschiMaevschiMaevschiMaevschiMaevschiMaevschiMaevschiMaevschiMaevschiMaevschiMaevschiMaevschiMaevschiMaevschiMaevschiMaevschiMaevschiMaevschiMaevschiMaevschiMaevschiMaevschiMaevschiMaevschiMaevschiMaevschiMaevschiMaevschiMaevschiMaevschiMaevschiMaevschiMaevschiMaevschiMaevschiMaevschiMaevschiMaevschiMaevschiMaevschiMaevschiMaevschiMaevschiMaevschiMaevschiMaevschiMaevschiMaevschiMaevschiMaevschiMaevschiMaevschiMaevschiMaevschiMaevschiMaevschiMaevschiMaevschiMaevschiMaevschiMaevschiMaevschiMaevschiMaevschiMaevschiMaevschiMaevschiMaevschiMaevschiMaevschiMaevschiMaevschiMaevschiMaevschiMaevschiMaevschiMaevschiMaevschiMaevschiMaevschiMaevschiMaevschiMaevschiMaevschiMaevschiMaevschiMaevschiMaevschiMaevschiMaevschiMaevschiMaevschiMaevschiMaevschiMaevschiMaevschiMaevschiMaevschiMaevschiMaevschiMaevschiMaevschiMaevschiMaevschiMaevschiMaevschiMaevschiMaevschiMaevschiMaevschiMaevschiMaevschiMaevschiMaevschiMaevschiMaevschiMaevschiMaevschiMaevschiMaevschiMaevschiMaevschiMaevschiMaevschiMaevschiMaevschiMaevschiMaevschiMaevschiMaevschiMaevschiMaevschiMaevschiMaevschiMaevschiMaevschiMaevschiMaevschiMaevschiMaevschiMaevschiMaevschiMaevschiMaevschiMaevschiMaevschiMaevschiMaevschiMaevschiMaevschiMaevschiMaevschiMaevschiMaevschiMaevschiMaevschiMaevschiMaevschiMaevschiMaevschiMaevschiMaevschiMaevschiMaevschiMaevschiMaevschiMaevschiMaevschiMaevschiMaevschiMaevschiMaevschiMaevschiMaevschiMaevschiMaevschiMaevschiMaevschiMaevschiMaevschiMaevschiMaevschiMaevschiMaevschiMaevschiMaevschiMaevschiMaevschiMaevschiMaevschiMaevschiMaevschiMaevschiMaevschiMaevschiMaevschiMaevschiMaevschiMaevschiMaevschiMaevschiMaevschiMaevschiMaevschiMaevschiMaevschiMaevschiMaevschiMaevschiMaevschiMaevschiMaevschiMaevschiMaevschiMaevschiMaevschiMaevschiMaevschiMaevschiMaevschiMaevschiMaevschiMaevschiMaevschiMaevschiMaevschiMaevschiMaevschiMaevschiMaevschiMaevschiMaevschiMaevschiMaevschiMaevschiMaevschiMaevschiMaevschiMaevschiMaevschiMaevschiMaevschiMaevschiMaevschiMaevschiMaevschiMaevschiMaevschiMaevschiMaevschiMaevschiMaevschiMaevschiMaevschiMaevschiMaevschiMaevschiMaevschiMaevschiMaevschiMaevschiMaevschiMaevschiMaevschiMaevschiMaevschiMaevschiMaevschiMaevschiMaevschiMaevschiMaevschiMaevschiMaevschiMaevschiMaevschiMaevschiMaevschiMaevschiMaevschiMaevschiMaevschiMaevschiMaevschiMaevschiMaevschiMaevschiMaevschiMaevschiMaevschiMaevschiMaevschiMaevschiMaevschiMaevschiMaevschiMaevschiMaevschiMaevschiMaevschiMaevschiMaevschiMaevschiMaevschiMaevschiMaevschiMaevschiMaevschiMaevschiMaevschiMaevschiMaevschiMaevschiMaevschiMaevschiMaevschiMaevschiMaevschiMaevschiMaevschiMaevschiMaevschiMaevschiMaevschiMaevschiMaevschiMaevschiMaevschiMaevschiMaevschiMaevschiMaevschiMaevschiMaevschiMaevschiMaevschiMaevschiMaevschiMaevschiMaevschiMaevschiMaevschiMaevschiMaevschiMaevschiMaevschiMaevschiMaevschiMaevschiMaevschiMaevschiMaevschiMaevschiMaevschiMaevschiMaevschiMaevschiMaevschiMaevschiMaevschiMaevschiMaevschiMaevschiMaevschiMaevschiMaevschiMaevschiMaevschiMaevschiMaevschiMaevschiMaevschiMaevschiMaevschiMaevschiMaevschiMaevschiMaevschiMaevschiMaevschiMaevschiMaevschiMaevschiMaevschiMaevschiMaevschiMaevschiMaevschiMaevschiMaevschiMaevschiMaevschiMaevschiMaevschiMaevschiMaevschiMaevschiMaevschiMaevschiMaevschiMaevschiMaevschiMaevschiMaevschiMaevschiMaevschiMaevschiMaevschiMaevschiMaevschiMaevschiMaevschiMaevschiMaevschiMaevschiMaevschiMaevschiMaevschiMaevschiMaevschiMaevschiMaevschiMaevschiMaevschiMaevschiMaevschiMaevschiMaevschiMaevschiMaevschiMaevschiMaevschiMaevschiMaevschiMaevschiMaevschiMaevschiMaevschiMaevschiMaevschiMaevschiMaevschiMaevschiMaevschiMaevschiMaevschiMaevschiMaevschiMaevschiMaevschiMaevschiMaevschiMaevschiMaevschiMaevschiMaevschiMaevschiMaevschiMaevschiMaevschiMaevschiMaevschiMaevschiMaevschiMaevschiMaevschiMaevschiMaevschiMaevschiMaevschiMaevschiMaevschiMaevschiMaevschiMaevschiMaevschiMaevschiMaevschiMaevschiMaevschiMaevschiMaevschiMaevschiMaevschiMaevschiMaevschiMaevschiMaevschiMaevschiMaevschiMaevschiMaevschiMaevschiMaevschiMaevschiMaevschiMaevschiMaevschiMaevschiMaevschiMaevschiMaevschiMaevschiMaevschiMaevschiMaevschiMaevschiMaevschiMaevschiMaevschiMaevschiMaevschiMaevschiMaevschiMaevschiMaevschiMaevschiMaevschiMaevschiMaevschiMaevschiMaevschiMaevschiMaevschiMaevschiMaevschiMaevschiMaevschiMaevschiMaevschiMaevschiMaevschiMaevschiMaevschiMaevschiMaevschiMaevschiMaevschiMaevschiMaevschiMaevschiMaevschiMaevschiMaevschiMaevschiMaevschiMaevschiMaevschiMaevschiMaevschiMaevschiMaevschiMaevschiMaevschiMaevschiMaevschiMaevschiMaevschiMaevschiMaevschiMaevschiMaevschiMaevschiMaevschiMaevschiMaevschiMaevschiMaevschiMaevschiMaevschiMaevschiMaevschiMaevschiMaevschiMaevschiMaevschiMaevschiMaevschiMaevschiMaevschiMaevschiMaevschiMaevschiMaevschiMaevschiMaevschiMaevschiMaevschiMaevschiMaevschiMaevschiMaevschiMaevschiMaevschiMaevschiMaevschiMaevschiMaevschiMaevschiMaevschiMaevschiMaevschiMaevschiMaevschiMaevschiMaevschiMaevschiMaevschiMaevschiMaevschiMaevschiMaevschiMaevschiMaevschiMaevschiMaevschiMaevschiMaevschiMaevschiMaevschiMaevschiMaevschiMaevschiMaevschiMaevschiMaevschiMaevschiMaevschiMaevschiMaevschiMaevschiMaevschiMaevschiMaevschiMaevschiMaevschiMaevschiMaevschiMaevschiMaevschiMaevschiMaevschiMaevschiMaevschiMaevschiMaevschiMaevschiMaevschiMaevschiMaevschiMaevschiMaevschiMaevschiMaevschiMaevschiMaevschiMaevschiMaevschiMaevschiMaevschiMaevschiMaevschi\n",
      "AndreeaAndreea\n",
      "1009\n",
      "2\n",
      "14.034722222222221\n"
     ]
    }
   ],
   "source": [
    "#4-12\n",
    "#4\n",
    "a = int(input(\"a = \"))\n",
    "b = int(input(\"b = \"))\n",
    "\n",
    "#5\n",
    "print(a+b)\n",
    "#6\n",
    "print(b-a)\n",
    "#7\n",
    "print(a*b)\n",
    "#8\n",
    "print(nume*a)\n",
    "#9\n",
    "print(prenume*b)\n",
    "#10\n",
    "print(a//b)\n",
    "#11\n",
    "print(b%a)\n",
    "#12\n",
    "print((a+b)/144)"
   ]
  },
  {
   "cell_type": "code",
   "execution_count": 71,
   "metadata": {},
   "outputs": [
    {
     "name": "stdout",
     "output_type": "stream",
     "text": [
      "ine\n",
      "mand\n",
      "eniradnam\n",
      "rad\n",
      "9\n",
      "MANDARINE\n",
      "m*nd*rine\n",
      "False\n",
      "mandarineMaevschiAndreea\n",
      "False\n",
      "-1\n"
     ]
    }
   ],
   "source": [
    "#13-25\n",
    "#13/14\n",
    "text = input()\n",
    "\n",
    "#15\n",
    "print(text[-3:])\n",
    "\n",
    "#16\n",
    "print(text[0:4])\n",
    "\n",
    "#17\n",
    "print(text[::-1])\n",
    "\n",
    "#18\n",
    "print(text[::-1][len(text)//2 - 1:len(text)//2 + 2])\n",
    "\n",
    "#19\n",
    "print(len(text))\n",
    "\n",
    "#20\n",
    "print(text.upper())\n",
    "\n",
    "#21\n",
    "print(text.replace('a', '*'))\n",
    "\n",
    "#22 ?\n",
    "for i in text:\n",
    "    if (i >= '0' and i <= '9'):\n",
    "        i = True\n",
    "    else: i = False\n",
    "print(i)\n",
    "\n",
    "#23\n",
    "print(text + nume + prenume)\n",
    "\n",
    "#24 \n",
    "c = text.find(\"end\")\n",
    "if (c == len(text) - len(\"end\")):\n",
    "    c = True\n",
    "else: c = False\n",
    "print(c)\n",
    "\n",
    "#25\n",
    "print(text.find(\"ana\")) "
   ]
  },
  {
   "cell_type": "code",
   "execution_count": 78,
   "metadata": {},
   "outputs": [
    {
     "name": "stdout",
     "output_type": "stream",
     "text": [
      "sunt egale\n",
      "suma este un nr par\n",
      "a este pozitiv\n",
      "a este in intervalul 1-10\n",
      "nu indeplineste una din conditii\n",
      "a este mutiplul lui b\n",
      "buna ziua\n",
      "a nu este divizibi cu 2 si 3\n",
      "totul functioneaza perfect\n",
      "nume + prenume este mai lung\n"
     ]
    }
   ],
   "source": [
    "#26-35\n",
    "#26\n",
    "if (a > b):\n",
    "    print(\"a\")\n",
    "elif (a == b):\n",
    "    print(\"sunt egale\")\n",
    "else: print(\"b\")\n",
    "\n",
    "#27\n",
    "if ((a + b) % 2 == 0):\n",
    "    print(\"suma este un nr par\")\n",
    "else: print(\"suma nu este un nr par\")\n",
    "\n",
    "#28\n",
    "if (a > 0):\n",
    "    print(\"a este pozitiv\")\n",
    "else: print(\"a este negativ\")\n",
    "\n",
    "#29\n",
    "if (a >= 1 and a <=10):\n",
    "    print(\"a este in intervalul 1-10\")\n",
    "elif (a > 20): \n",
    "    print(\"a este mai mare de 20\")\n",
    "else: \n",
    "    print(\"a este in intervalul 11-20\")\n",
    "\n",
    "#30 \n",
    "if (len(text) > 10 and \"hello\" in text): \n",
    "    print(\"text > 10 si contine cuvintul hello\")\n",
    "else: \n",
    "    print(\"nu indeplineste una din conditii\")\n",
    "\n",
    "#31\n",
    "if (a % b == 0):\n",
    "    print(\"a este mutiplul lui b\")\n",
    "else: print(\"a nu este multiplul lui b\")\n",
    "\n",
    "#32 \n",
    "#0-5 noaptea, 6-15 ziua, 16-24 seara\n",
    "ora = int(input(\"este ora \"))\n",
    "if (ora >=16  and a <=24):\n",
    "    print(\"buna seara\")\n",
    "elif (ora >= 0 and ora <=5): \n",
    "    print(\"noapte buna\")\n",
    "else: \n",
    "    print(\"buna ziua\")\n",
    "\n",
    "#33\n",
    "if (a % 2 == 0 and a % 3 == 0):\n",
    "    print(\"a este divizibi cu 2 si 3\")\n",
    "else:\n",
    "    print(\"a nu este divizibi cu 2 si 3\")\n",
    "\n",
    "#34\n",
    "if (text.find(\"error\") != -1):\n",
    "    print(\"trebuie sa verificam codul!\")\n",
    "else: print(\"totul functioneaza perfect\")\n",
    "\n",
    "#35\n",
    "if (len(text) > len(nume + prenume)):\n",
    "    print(\"text este mai lung\")\n",
    "else: print(\"nume + prenume este mai lung\")"
   ]
  },
  {
   "cell_type": "code",
   "execution_count": 101,
   "metadata": {},
   "outputs": [
    {
     "name": "stdout",
     "output_type": "stream",
     "text": [
      "excelent\n",
      "a este intre inveralul 0-b\n",
      "Fizz\n",
      "an obisnuit\n"
     ]
    }
   ],
   "source": [
    "#36-39\n",
    "#36\n",
    "nota = int(input(\"nota = \"))\n",
    "if (nota == 9 or nota == 10):\n",
    "    print(\"excelent\")\n",
    "elif (nota == 7 or nota == 8):\n",
    "    print(\"bine\")\n",
    "elif (nota == 5 or nota == 6):\n",
    "    print(\"satisfacator\")\n",
    "else: print(\"insuficient\")\n",
    "\n",
    "#37\n",
    "if (a >= 0 and a <= b):\n",
    "    print(\"a este intre inveralul 0-b\")\n",
    "else: print(\"a este intre inveralul 0-b\")\n",
    "\n",
    "#38\n",
    "if (a % 3 == 0):\n",
    "    print(\"Fizz\")\n",
    "elif (a % 5 == 0):\n",
    "    print(\"Buzz\")\n",
    "elif (a % 3 == 0 and a % 5 == 0):\n",
    "    print (\"FizzBuzz\")\n",
    "else: print(\"nu este divizibil cu 3 sau 5\")\n",
    "\n",
    "#39\n",
    "if (a % 4 == 0 or a % 400 == 0):\n",
    "    print(\"an bisect\")\n",
    "else: print(\"an obisnuit\")"
   ]
  },
  {
   "cell_type": "code",
   "execution_count": 7,
   "metadata": {},
   "outputs": [
    {
     "name": "stdout",
     "output_type": "stream",
     "text": [
      "[1, 2, 3, 4, 5, 6, 7, 8, 9, 10]\n",
      "[10, 9, 8, 7, 6, 5, 4, 3, 2, 1]\n",
      "[2, 4, 6, 8, 10, 12, 14, 16, 18, 20]\n",
      "[2, 4, 6, 8, 10]\n",
      "[2, 4, 6, 8]\n",
      "0 2\n",
      "1 4\n",
      "2 6\n",
      "3 8\n",
      "[8, 6, 4, 2]\n",
      "[8, 6, 4, 2, 7, 10, 3, 14, 23]\n",
      "[64, 48, 32, 16, 56, 80, 24, 112, 184]\n",
      "[16, 24, 32, 48, 56, 64, 80, 112, 184]\n",
      "[184, 112, 80, 64, 56, 48, 32, 24, 16]\n"
     ]
    }
   ],
   "source": [
    "#40-49\n",
    "#40\n",
    "lista = list(range(1, 11))\n",
    "print(lista)\n",
    "\n",
    "#41\n",
    "print(lista[::-1])\n",
    "\n",
    "#42\n",
    "lista1 = list(range(11, 21))\n",
    "lista2 = lista + lista1\n",
    "print(lista2[1::2])\n",
    "\n",
    "#43\n",
    "sub_lista = lista2[1:10:2]\n",
    "print(sub_lista)\n",
    "\n",
    "#44\n",
    "lista_noua = sub_lista[:-1]\n",
    "print(lista_noua)\n",
    "\n",
    "#45\n",
    "for i in range(len(lista_noua)):\n",
    "    element = lista_noua[i]\n",
    "    print(i, element)\n",
    "\n",
    "#46\n",
    "print(lista_noua[::-1])\n",
    "\n",
    "#47 ???\n",
    "lista_noua2 = [7, 10, 3, 14, 23]\n",
    "lista_noua3 = lista_noua[::-1] + lista_noua2\n",
    "print(lista_noua3)\n",
    "\n",
    "#48\n",
    "while(lista_noua3[0] <= 50):\n",
    "    for i in range(len(lista_noua3)):\n",
    "        lista_noua3[i] = lista_noua3[i] * 2\n",
    "print(lista_noua3)\n",
    "\n",
    "#49\n",
    "lista_noua4 = sorted(lista_noua3)\n",
    "print(lista_noua4)\n",
    "print(lista_noua4[::-1])"
   ]
  },
  {
   "cell_type": "code",
   "execution_count": 193,
   "metadata": {},
   "outputs": [
    {
     "name": "stdout",
     "output_type": "stream",
     "text": [
      "[1, 4, 9, 16, 25, 36, 49, 64, 81, 100]\n",
      "[1, 9, 25, 49, 81]\n",
      "[1, 2, 5, 6, 9, 10]\n",
      "este palindrom\n",
      "7 * 1 = 7\n",
      "7 * 2 = 14\n",
      "7 * 3 = 21\n",
      "7 * 4 = 28\n",
      "7 * 5 = 35\n",
      "7 * 6 = 42\n",
      "7 * 7 = 49\n",
      "7 * 8 = 56\n",
      "7 * 9 = 63\n",
      "7 * 10 = 70\n",
      "[(1, 1), (1, 2), (1, 3), (1, 4), (1, 5)]\n",
      "[(2, 1), (2, 2), (2, 3), (2, 4), (2, 5)]\n",
      "[(3, 1), (3, 2), (3, 3), (3, 4), (3, 5)]\n",
      "[(4, 1), (4, 2), (4, 3), (4, 4), (4, 5)]\n",
      "[(5, 1), (5, 2), (5, 3), (5, 4), (5, 5)]\n",
      "(1, 2) (1, 3) (1, 4) (1, 5) (2, 3) (2, 4) (2, 5) (3, 4) (3, 5) (4, 5) "
     ]
    }
   ],
   "source": [
    "#50-56\n",
    "#50\n",
    "nr = []\n",
    "for n in range(1, 101):\n",
    "    rad = int(n ** (1/2))\n",
    "    if rad ** 2 == n:\n",
    "        nr.append(n)\n",
    "print(nr)\n",
    "\n",
    "#51\n",
    "print(nr[::2])\n",
    "\n",
    "#52\n",
    "lista3 = [2, 5, 10, 9, 6, 1]\n",
    "print(sorted(lista3))\n",
    "\n",
    "#53\n",
    "lista4 = [1, 2, 3, 4, 3, 2, 1]\n",
    "if (lista4 == lista4[::-1]):\n",
    "    print(\"este palindrom\")\n",
    "else: print(\"nu este palindrom\")\n",
    "\n",
    "#54\n",
    "for i in range(1, 11):\n",
    "    produs = 7 * i\n",
    "    print(f\"7 * {i} = {produs}\")\n",
    "\n",
    "#55\n",
    "lista5 = [[(i, j) for j in range(1, 6)] for i in range(1, 6)]\n",
    "for sublista in lista5:\n",
    "    print(sublista)\n",
    "    \n",
    "#56\n",
    "for sublista in lista5:\n",
    "    for (i, j) in sublista:\n",
    "        if i < j:\n",
    "            print(f\"({i}, {j})\", end = \" \")"
   ]
  },
  {
   "cell_type": "code",
   "execution_count": 212,
   "metadata": {},
   "outputs": [
    {
     "name": "stdout",
     "output_type": "stream",
     "text": [
      "[8, 6, 4, 6]\n",
      "nu există valori mai mari decât 10 în listă\n",
      "elementul nu exista\n",
      "* * * * * * \n",
      "* * * * * * \n",
      "* * * * * * \n",
      "* * * * * * \n",
      "* * * * * * \n",
      "* * * * * * \n"
     ]
    }
   ],
   "source": [
    "#57-60\n",
    "#57\n",
    "strlista = [\"piramide\", \"colaci\", \"orar\", \"banane\"]\n",
    "lenlista = [len(s) for s in strlista]\n",
    "print(lenlista)\n",
    "\n",
    "#58\n",
    "numar = 0\n",
    "while numar < len(lenlista) and lenlista[numar] <= 10:\n",
    "    numar += 1\n",
    "if numar < len(lenlista):\n",
    "    print(lenlista[numar])\n",
    "else:\n",
    "    print(\"nu există valori mai mari decât 10 în listă\")\n",
    "\n",
    "#59\n",
    "lista6 = [12, 5, 8, 10, \"jungla\", \"abc\"]\n",
    "for i in lista6:\n",
    "    if (i == \"cba\"):\n",
    "        print(\"elementul exista\")\n",
    "        break\n",
    "else: print(\"elementul nu exista\")\n",
    "\n",
    "#60\n",
    "d = int(input(\"dimensiunea patratului\"))\n",
    "for j in range(1, d):\n",
    "    for i in range(1, d):\n",
    "        print(\"* \", end=\"\")\n",
    "    print()"
   ]
  },
  {
   "cell_type": "code",
   "execution_count": 283,
   "metadata": {},
   "outputs": [
    {
     "name": "stdout",
     "output_type": "stream",
     "text": [
      "1\n",
      "12\n",
      "123\n",
      "1234\n",
      "12345\n",
      "123456\n",
      "\n",
      "54321\n",
      "5432\n",
      "543\n",
      "54\n",
      "5\n",
      "\n",
      "abcdefg\n",
      "bcdefg\n",
      "cdefg\n",
      "defg\n",
      "efg\n",
      "fg\n",
      "g\n",
      "\n",
      "+-+-+-+-+-+-+-\n",
      "-+-+-+-+-+-+-+\n",
      "+-+-+-+-+-+-+-\n",
      "-+-+-+-+-+-+-+\n",
      "+-+-+-+-+-+-+-\n",
      "-+-+-+-+-+-+-+\n",
      "+-+-+-+-+-+-+-\n",
      "-+-+-+-+-+-+-+\n",
      "\n",
      "3 \n",
      "3 9 \n",
      "3 9 27 \n",
      "3 9 27 81 \n",
      "3 9 27 81 243 \n",
      "9 27 81 243 \n",
      "27 81 243 \n",
      "81 243 \n",
      "243 \n"
     ]
    }
   ],
   "source": [
    "#61\n",
    "#1\n",
    "j = 1\n",
    "while (j<=6):\n",
    "    i = 1\n",
    "    while(i<=j):\n",
    "        print(i, end=\"\")\n",
    "        i+=1\n",
    "    print()\n",
    "    j+=1\n",
    "\n",
    "#2\n",
    "print()\n",
    "for i in range(0, 5, 1):\n",
    "    for j in range(5, i, -1):\n",
    "        print(j, end=\"\")\n",
    "    print()\n",
    "\n",
    "#3\n",
    "print()\n",
    "y = \"abcdefg\"\n",
    "for i in range(len(y)):\n",
    "    print(y[i:])\n",
    "\n",
    "#4\n",
    "print()\n",
    "for i in range(1, 9):\n",
    "    for j in range(1, 8):\n",
    "        if i % 2 == 0:  \n",
    "            print(\"-\", end=\"\")\n",
    "            print(\"+\", end=\"\")\n",
    "        else:\n",
    "            print(\"+\", end=\"\")\n",
    "            print(\"-\", end=\"\")\n",
    "    print()\n",
    "\n",
    "#5\n",
    "print()\n",
    "for i in range(1, 6):\n",
    "    for j in range(i):\n",
    "        print(3 ** (j + 1), end=\" \")\n",
    "    print()\n",
    "for i in range(4, 0, -1):\n",
    "    for j in range(2, i + 2):\n",
    "        print(3 ** (4 - i + j), end=\" \")\n",
    "    print()"
   ]
  },
  {
   "cell_type": "code",
   "execution_count": 284,
   "metadata": {},
   "outputs": [
    {
     "name": "stdout",
     "output_type": "stream",
     "text": [
      "   *\n",
      "  ***\n",
      " *****\n",
      "*******\n"
     ]
    }
   ],
   "source": [
    "#62\n",
    "def print_pyramid(n):\n",
    "    \"\"\"\n",
    "        Functia print_pyramid care primeste un nr intreg n\n",
    "    Parameter:\n",
    "        n - nr int primit\n",
    "\n",
    "    Returns:\n",
    "        O piramida cu inaltimea n folosind carac. \"*\"\n",
    "    \"\"\"\n",
    "    for i in range(1, n + 1):\n",
    "        print((\" \" * (n - i)) + (\"*\" * (2 * i - 1)))\n",
    "\n",
    "print_pyramid(4)"
   ]
  },
  {
   "cell_type": "code",
   "execution_count": 289,
   "metadata": {},
   "outputs": [
    {
     "data": {
      "text/plain": [
       "True"
      ]
     },
     "execution_count": 289,
     "metadata": {},
     "output_type": "execute_result"
    }
   ],
   "source": [
    "#63\n",
    "def is_prime(p):\n",
    "    \"\"\"\n",
    "    Functia is_prime verifică dacă un număr este prim\n",
    "\n",
    "    Args:\n",
    "        p: numarul care se verifica de tip int\n",
    "\n",
    "    Returns:\n",
    "        True daca este prim, False daca nu este\n",
    "\n",
    "    \"\"\"\n",
    "    for i in range(2, p):\n",
    "        if (p % i == 0):\n",
    "            return False\n",
    "        else: return True\n",
    "\n",
    "is_prime(29)"
   ]
  },
  {
   "cell_type": "code",
   "execution_count": 9,
   "metadata": {},
   "outputs": [
    {
     "data": {
      "text/plain": [
       "[0, 1, 3, 5, 8, 10, 23, 45, 6, 7, 11, 34, 76]"
      ]
     },
     "execution_count": 9,
     "metadata": {},
     "output_type": "execute_result"
    }
   ],
   "source": [
    "#64\n",
    "def merge_lists(lista7, lista8):\n",
    "    \"\"\"\n",
    "    Functia merge_lists uneste 2 liste sortate\n",
    "\n",
    "    Args:\n",
    "        lista7 - prima lista\n",
    "        lista8 - a doua lista\n",
    "\n",
    "    Returns:\n",
    "        O noua lista sortata combinata din elemente celor 2 liste\n",
    "\n",
    "    \"\"\"\n",
    "    lista9 = lista7 + lista8\n",
    "    return lista9\n",
    "merge_lists(sorted([3, 5, 8, 10, 23, 1, 0, 45]), sorted([76, 6, 7, 11, 34]))"
   ]
  },
  {
   "cell_type": "code",
   "execution_count": null,
   "metadata": {},
   "outputs": [],
   "source": [
    "#65 ????\n",
    "def calculate_stats(lista):\n",
    "    \"\"\"\n",
    "    Calculeaza media, mediana si modul unei liste de numere\n",
    "\n",
    "    Parameters: \n",
    "        lista - o lista de numere\n",
    "\n",
    "    Returns: \n",
    "        Un dictionar ce contine media, mediana si modul listei\n",
    "        \n",
    "    \"\"\"\n",
    "    media = sum(lista) / len(lista)\n",
    "    \n",
    "    if len(lista) % 2 == 0:\n",
    "        mediana = ([len(lista) // 2 - 1] + [len(lista) // 2]) / 2\n",
    "    else:\n",
    "        mediana = [len(lista) // 2]\n",
    "\n",
    "    frecvente = {}\n",
    "    for numar in lista:\n",
    "        frecvente[numar] = frecvente.get(numar, 0) + 1\n",
    "\n",
    "    modul = [cheie for cheie, valoare in frecvente.items() if valoare == max(frecvente.values())]\n",
    "    dictionar = {\n",
    "        \"media\": media,\n",
    "        \"mediana\": mediana,\n",
    "        \"modul\": modul\n",
    "    }\n",
    "    return dictionar\n",
    "\n",
    "lista = [1, 3, 3, 5, 7, 10, 10, 13, 14]\n",
    "calculate_stats(lista)"
   ]
  },
  {
   "cell_type": "code",
   "execution_count": 14,
   "metadata": {},
   "outputs": [
    {
     "data": {
      "text/plain": [
       "3"
      ]
     },
     "execution_count": 14,
     "metadata": {},
     "output_type": "execute_result"
    }
   ],
   "source": [
    "#66 ????\n",
    "def fibonacci(n):\n",
    "    \"\"\"\n",
    "    Calculeaza al n-lea element din sirul lui Fibonacci\n",
    "\n",
    "    Parmeters: \n",
    "        n - pozitia elementului în sirul Fibonacci\n",
    "\n",
    "    Returns:\n",
    "        Returneaza valoarea elementului de pe pozitia n in sirul Fibonacci\n",
    "        \n",
    "    \"\"\"\n",
    "    a, b = 0, 1\n",
    "    for i in range(n - 1):\n",
    "        a, b = b, a + b\n",
    "    return b\n",
    "fibonacci(4)"
   ]
  },
  {
   "cell_type": "code",
   "execution_count": 43,
   "metadata": {},
   "outputs": [],
   "source": [
    "#67 -\n",
    "def invert_dict():\n",
    "    \"\"\"\n",
    "    \n",
    "    \"\"\""
   ]
  },
  {
   "cell_type": "code",
   "execution_count": 1,
   "metadata": {},
   "outputs": [
    {
     "data": {
      "text/plain": [
       "{'f': 1, 'u': 2, 'r': 2, 's': 1, 'e': 1, 'c': 1, 'i': 1}"
      ]
     },
     "execution_count": 1,
     "metadata": {},
     "output_type": "execute_result"
    }
   ],
   "source": [
    "#68\n",
    "def char_histogram(text):\n",
    "    \"\"\"\n",
    "    Construiește o histograma a caracterelor dintr-un string\n",
    "\n",
    "    Args:\n",
    "        text - string-ul primit pentru histograma\n",
    "    \n",
    "    Returns: \n",
    "        Returneaza un dictionar cu frecventa fiecarui caracter din string\n",
    "\n",
    "    \"\"\"\n",
    "    histograma = {}\n",
    "    for i in text:\n",
    "        if i in histograma:\n",
    "            histograma[i] += 1\n",
    "        else:\n",
    "            histograma[i] = 1\n",
    "    return histograma\n",
    "\n",
    "char_histogram(\"fursecuri\")"
   ]
  },
  {
   "cell_type": "code",
   "execution_count": 10,
   "metadata": {},
   "outputs": [
    {
     "data": {
      "text/plain": [
       "[1, 13, 25, 4, 5, 7]"
      ]
     },
     "execution_count": 10,
     "metadata": {},
     "output_type": "execute_result"
    }
   ],
   "source": [
    "#69 ???\n",
    "def unique_elements(lista):\n",
    "    \"\"\"\n",
    "    Extrage elementele unice dintr-o lista data\n",
    "\n",
    "    Args: \n",
    "        lista - lista din care elementele unice se extrag\n",
    "\n",
    "    Returns:\n",
    "        Returneaza o lista noua unice din lista data\n",
    "\n",
    "    \"\"\"\n",
    "    elemente_unice = []\n",
    "    for i in lista:\n",
    "        if i not in elemente_unice:\n",
    "            elemente_unice.append(i)\n",
    "    return elemente_unice\n",
    "\n",
    "unique_elements([1, 1, 13, 13, 25, 4, 5, 7, 1])"
   ]
  },
  {
   "cell_type": "code",
   "execution_count": 13,
   "metadata": {},
   "outputs": [
    {
     "data": {
      "text/plain": [
       "[2, 7, 4]"
      ]
     },
     "execution_count": 13,
     "metadata": {},
     "output_type": "execute_result"
    }
   ],
   "source": [
    "#70\n",
    "def common_elements(lista_1, lista_2):\n",
    "    \"\"\"\n",
    "    Functia common_elements selecteaza elementele comune din 2 liste\n",
    "\n",
    "    Parameters:\n",
    "        lista_1 - prima lista din care se extrag elementele\n",
    "        lista_2 - a doua lista din care se extrag elementele\n",
    "\n",
    "    Returns:\n",
    "        O noua lista combinata din elementele celor 2 liste\n",
    "\n",
    "    \"\"\"\n",
    "    lista_3 = []\n",
    "    for i in lista_1:\n",
    "        if i in lista_2:\n",
    "            lista_3.append(i)\n",
    "    return lista_3\n",
    "\n",
    "common_elements([2, 6, 7, 4, 30, 34], [2, 4, 8, 10, 7, 12])"
   ]
  },
  {
   "cell_type": "code",
   "execution_count": null,
   "metadata": {},
   "outputs": [],
   "source": []
  }
 ],
 "metadata": {
  "kernelspec": {
   "display_name": "Python 3",
   "language": "python",
   "name": "python3"
  },
  "language_info": {
   "codemirror_mode": {
    "name": "ipython",
    "version": 3
   },
   "file_extension": ".py",
   "mimetype": "text/x-python",
   "name": "python",
   "nbconvert_exporter": "python",
   "pygments_lexer": "ipython3",
   "version": "3.12.0"
  }
 },
 "nbformat": 4,
 "nbformat_minor": 2
}
