{
 "cells": [
  {
   "cell_type": "code",
   "execution_count": 4,
   "metadata": {},
   "outputs": [],
   "source": [
    "#1\n",
    "class Person():\n",
    "    def __init__(self, nume_prenume, varsta):\n",
    "        self.nume_prenume = nume_prenume\n",
    "        self.varsta = varsta\n",
    "\n",
    "    def get_details(self):\n",
    "        pass"
   ]
  },
  {
   "cell_type": "code",
   "execution_count": 5,
   "metadata": {},
   "outputs": [],
   "source": [
    "#2\n",
    "class Student(Person):\n",
    "    def __init__(self, nume_prenume, varsta, grade):\n",
    "        super().__init__(nume_prenume, varsta)\n",
    "        self.__grade = grade\n",
    "\n",
    "    def get_details(self):\n",
    "        return f\"Elevul/eleva {self.nume_prenume}, varsta {self.varsta}, clasa {self.__grade}\""
   ]
  },
  {
   "cell_type": "code",
   "execution_count": 6,
   "metadata": {},
   "outputs": [],
   "source": [
    "#3\n",
    "class Teacher(Person):\n",
    "    def __init__(self, nume_prenume, varsta, subject):\n",
    "        super().__init__(nume_prenume, varsta)\n",
    "        self.subject = subject\n",
    "\n",
    "    def get_details(self):\n",
    "        return f\"Profesor {self.nume_prenume}, varsta {self.varsta}, disciplina {self.subject}\""
   ]
  },
  {
   "cell_type": "code",
   "execution_count": 7,
   "metadata": {},
   "outputs": [],
   "source": [
    "#4 ?\n",
    "def school_directory(persons):\n",
    "    for person in persons:\n",
    "        print(person.get_details())"
   ]
  },
  {
   "cell_type": "code",
   "execution_count": 8,
   "metadata": {},
   "outputs": [
    {
     "name": "stdout",
     "output_type": "stream",
     "text": [
      "Elevul/eleva Vasile Ion, varsta 17, clasa 11\n",
      "Elevul/eleva Maevschi Andreea, varsta 18, clasa 11\n",
      "Profesor Tifin Maria, varsta 57, disciplina Matematica\n",
      "Profesor Mihalache Lilia, varsta 40, disciplina Informatica\n"
     ]
    }
   ],
   "source": [
    "# 5\n",
    "elev_1 = Student(\"Vasile Ion\", 17, 11)\n",
    "elev_2 = Student(\"Maevschi Andreea\", 18, 11)\n",
    "prof_1 = Teacher(\"Tifin Maria\", 57, \"Matematica\")\n",
    "prof_2 = Teacher(\"Mihalache Lilia\", 40, \"Informatica\")\n",
    "\n",
    "school_directory([elev_1, elev_2, prof_1, prof_2])"
   ]
  },
  {
   "cell_type": "code",
   "execution_count": null,
   "metadata": {},
   "outputs": [],
   "source": []
  }
 ],
 "metadata": {
  "kernelspec": {
   "display_name": "Python 3",
   "language": "python",
   "name": "python3"
  },
  "language_info": {
   "codemirror_mode": {
    "name": "ipython",
    "version": 3
   },
   "file_extension": ".py",
   "mimetype": "text/x-python",
   "name": "python",
   "nbconvert_exporter": "python",
   "pygments_lexer": "ipython3",
   "version": "3.12.0"
  }
 },
 "nbformat": 4,
 "nbformat_minor": 2
}
